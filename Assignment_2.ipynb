{
 "cells": [
  {
   "cell_type": "markdown",
   "id": "68a9f6f2-76f8-469d-9234-493234dd623a",
   "metadata": {},
   "source": [
    "## Q1. Which keyword is used to create a function?"
   ]
  },
  {
   "cell_type": "markdown",
   "id": "7ad23dbf-5841-40ba-bbea-14b92fc047af",
   "metadata": {},
   "source": [
    "def"
   ]
  },
  {
   "cell_type": "markdown",
   "id": "5fbc25c5-f8f6-4eb0-9dfa-8a554a9194f7",
   "metadata": {},
   "source": [
    "## Create a function to return a list of odd numbers in the range of 1 to 25."
   ]
  },
  {
   "cell_type": "code",
   "execution_count": 12,
   "id": "f03cce6e-f045-495e-8409-0b6f3c750959",
   "metadata": {},
   "outputs": [],
   "source": [
    "# Create an empty list\n",
    "odd_num = []\n",
    "\n",
    "# Create the function. It first checks whether the number is odd or even and then append the list with odd numbers. At the end, it returns the list of odd numbers\n",
    "def odd_n(x):\n",
    "    if x%2 != 0:\n",
    "        odd_num.append(x)\n",
    "    return odd_num\n",
    "for i in range (1,26):\n",
    "    odd_n(i)"
   ]
  },
  {
   "cell_type": "code",
   "execution_count": 13,
   "id": "0f218627-837b-45e0-82d9-b92a0d432c32",
   "metadata": {},
   "outputs": [
    {
     "data": {
      "text/plain": [
       "[1, 3, 5, 7, 9, 11, 13, 15, 17, 19, 21, 23, 25]"
      ]
     },
     "execution_count": 13,
     "metadata": {},
     "output_type": "execute_result"
    }
   ],
   "source": [
    "odd_num"
   ]
  },
  {
   "cell_type": "markdown",
   "id": "7f014644-47a0-48ec-b307-acffbecb4a35",
   "metadata": {},
   "source": [
    "## Q2. Why *args and **kwargs is used in some functions? Create a function each for *args and **kwargs to demonstrate their use."
   ]
  },
  {
   "cell_type": "markdown",
   "id": "29d63dda-10df-4a09-ba67-64357ca870d3",
   "metadata": {},
   "source": [
    "In Python, *args and **kwargs are special syntax used in function definitions to pass a variable number of arguments to a function.\n",
    "\n",
    "*args is used to pass a variable number of non-keyworded arguments to a function. It allows a function to take any number of positional arguments.\n",
    "\n",
    "**kwargs is used to pass a variable number of keyworded arguments to a function. It allows a function to take any number of keyword arguments."
   ]
  },
  {
   "cell_type": "code",
   "execution_count": 2,
   "id": "e3db3308-fe7c-4afb-9f48-88d95715a89a",
   "metadata": {},
   "outputs": [
    {
     "name": "stdout",
     "output_type": "stream",
     "text": [
      "15\n"
     ]
    }
   ],
   "source": [
    "# Example function using *args:\n",
    "def sum_numbers(*args):\n",
    "    total = 0\n",
    "    for num in args:\n",
    "        total += num\n",
    "    return total\n",
    "\n",
    "print(sum_numbers(1, 2, 3, 4, 5)) "
   ]
  },
  {
   "cell_type": "code",
   "execution_count": 3,
   "id": "eb39cd78-fc44-4675-aa47-a5aad5839acd",
   "metadata": {},
   "outputs": [
    {
     "name": "stdout",
     "output_type": "stream",
     "text": [
      "name: Alice\n",
      "age: 25\n",
      "city: New York\n"
     ]
    }
   ],
   "source": [
    "# Example function using **kwargs:\n",
    "def print_info(**kwargs):\n",
    "    for key, value in kwargs.items():\n",
    "        print(f'{key}: {value}')\n",
    "\n",
    "print_info(name='Alice', age=25, city='New York') "
   ]
  },
  {
   "cell_type": "markdown",
   "id": "7574bc51-3c92-4f92-8744-26808a2ddce7",
   "metadata": {},
   "source": [
    "## Q3.  What is an iterator in python? Name the method used to initialise the iterator object and the method used for iteration."
   ]
  },
  {
   "cell_type": "markdown",
   "id": "d4f6b94f-ab1f-4882-b9b0-fe7b94958ad4",
   "metadata": {},
   "source": [
    "An iterator is an object in Python that allows to loop over a collection of data, one item at a time. In other words, it's like a pointer that moves through a sequence of values, and can access each value in turn using the iterator.\n",
    "\n",
    "Iterators in Python follow a protocol that consists of two methods: __iter__() and __next__(). The __iter__() method is used to initialize the iterator, while the __next__() method is used to retrieve the next item in the sequence.\n",
    "\n",
    "An iterator in Python creates an object that can be used to represent a stream of data. This stream of data can come from many sources, such as a file, a database, or a generator function.\n",
    "\n",
    "One of the most common ways to use an iterator in Python is with a for loop. When we loop over a sequence of values using a for loop, Python automatically creates an iterator object behind the scenes, and uses it to loop over the sequence. This makes it easy for us to access each value in turn, without having to worry about the details of how the iterator works."
   ]
  },
  {
   "cell_type": "markdown",
   "id": "1a1473b8-7ddf-4f90-be85-5e797605f56a",
   "metadata": {},
   "source": [
    "##  Use these methods to print the first five elements of the given list [2, 4, 6, 8, 10, 12, 14, 16, 18, 20]."
   ]
  },
  {
   "cell_type": "code",
   "execution_count": 4,
   "id": "0ccd5b03-af40-4090-ab02-5873ffd1474a",
   "metadata": {},
   "outputs": [
    {
     "name": "stdout",
     "output_type": "stream",
     "text": [
      "2\n",
      "4\n",
      "6\n",
      "8\n",
      "10\n"
     ]
    }
   ],
   "source": [
    "my_list = [2, 4, 6, 8, 10, 12, 14, 16, 18, 20]\n",
    "my_iter = iter(my_list)\n",
    "\n",
    "for i in range(5):\n",
    "    print(next(my_iter))"
   ]
  },
  {
   "cell_type": "markdown",
   "id": "44e11fd2-cc12-4c8b-9cee-5ce00e4190b4",
   "metadata": {},
   "source": [
    "## Q4.  What is a generator function in python? Why yield keyword is used? Give an example of a generator function."
   ]
  },
  {
   "cell_type": "markdown",
   "id": "030896fc-b89d-4a95-8cd2-10cfbb102c32",
   "metadata": {},
   "source": [
    "A generator function in Python is a special type of function that allows generation of a sequence of values over time using the 'yield' keyword. It returns an iterator that can be used to get the values generated by the function one at a time. Generator functions are useful when there is a need to generate large sequences of values or when values need to be generated on-the-fly."
   ]
  },
  {
   "cell_type": "markdown",
   "id": "e530997a-7295-4e81-9d5c-6fea5d99491a",
   "metadata": {},
   "source": [
    "## Give an example of a generator function."
   ]
  },
  {
   "cell_type": "code",
   "execution_count": 2,
   "id": "888e292d-1ff9-4ba6-bc2e-9979b547fb82",
   "metadata": {},
   "outputs": [
    {
     "name": "stdout",
     "output_type": "stream",
     "text": [
      "0\n",
      "1\n",
      "2\n",
      "3\n",
      "4\n"
     ]
    }
   ],
   "source": [
    "# A generator function that generates a sequence of numbers from 0 to n-1\n",
    "def number_sequence(n):\n",
    "    i = 0\n",
    "    while i < n:\n",
    "        yield i\n",
    "        i += 1\n",
    "\n",
    "# create an iterator from the generator function\n",
    "num_seq = number_sequence(5)\n",
    "\n",
    "# loop over the values generated by the iterator using a for loop\n",
    "for num in num_seq:\n",
    "    print(num)"
   ]
  },
  {
   "cell_type": "markdown",
   "id": "7d32215b-45f8-4862-b9a7-055740031218",
   "metadata": {},
   "source": [
    "## Q5. Create a generator function for prime numbers less than 1000. Use the next() method to print the first 20 prime numbers."
   ]
  },
  {
   "cell_type": "code",
   "execution_count": 3,
   "id": "baaaa7d8-85cb-4d45-a2f6-b0ec858c7282",
   "metadata": {},
   "outputs": [
    {
     "name": "stdout",
     "output_type": "stream",
     "text": [
      "2\n",
      "3\n",
      "5\n",
      "7\n",
      "11\n",
      "13\n",
      "17\n",
      "19\n",
      "23\n",
      "29\n",
      "31\n",
      "37\n",
      "41\n",
      "43\n",
      "47\n",
      "53\n",
      "59\n",
      "61\n",
      "67\n",
      "71\n"
     ]
    }
   ],
   "source": [
    "def primes():\n",
    "    # Create a boolean array indicating whether each number is prime\n",
    "    is_prime = [True] * 1000\n",
    "    is_prime[0] = is_prime[1] = False\n",
    "\n",
    "    # Use the Sieve of Eratosthenes algorithm to mark non-prime numbers\n",
    "    for i in range(2, int(1000 ** 0.5) + 1):\n",
    "        if is_prime[i]:\n",
    "            for j in range(i * i, 1000, i):\n",
    "                is_prime[j] = False\n",
    "\n",
    "    # Yield each prime number less than 1000\n",
    "    for i in range(1000):\n",
    "        if is_prime[i]:\n",
    "            yield i\n",
    "\n",
    "# create an iterator from the generator function\n",
    "prime_nums = primes()\n",
    "\n",
    "# loop over the values generated by the iterator using next() method\n",
    "for i in range(20):\n",
    "    print(next(prime_nums))"
   ]
  },
  {
   "cell_type": "markdown",
   "id": "ddaa62ee-b87f-4528-b319-8534c48323fa",
   "metadata": {},
   "source": [
    "## Q6. Write a python program to print the first 10 Fibonacci numbers using a while loop."
   ]
  },
  {
   "cell_type": "code",
   "execution_count": 4,
   "id": "5ae04ccc-ab1a-4e15-823d-cbe7599137a8",
   "metadata": {},
   "outputs": [
    {
     "name": "stdout",
     "output_type": "stream",
     "text": [
      "0\n",
      "1\n",
      "1\n",
      "2\n",
      "3\n",
      "5\n",
      "8\n",
      "13\n",
      "21\n",
      "34\n"
     ]
    }
   ],
   "source": [
    "# set the initial values of the Fibonacci sequence\n",
    "a, b = 0, 1\n",
    "\n",
    "# print the first 10 Fibonacci numbers using a while loop\n",
    "count = 0\n",
    "while count < 10:\n",
    "    print(a)\n",
    "    c = a + b\n",
    "    a = b\n",
    "    b = c\n",
    "    count += 1"
   ]
  },
  {
   "cell_type": "markdown",
   "id": "d5058ab8-fc48-41a4-aa36-9c76037c6367",
   "metadata": {},
   "source": [
    "## Q7. Write a List Comprehension to iterate through the given string: ‘pwskills’. Expected output: ['p', 'w', 's', 'k', 'i', 'l', 'l', 's']"
   ]
  },
  {
   "cell_type": "code",
   "execution_count": 5,
   "id": "766ef89a-b402-4b64-a6f2-d34304b775c6",
   "metadata": {},
   "outputs": [
    {
     "name": "stdout",
     "output_type": "stream",
     "text": [
      "['p', 'w', 's', 'k', 'i', 'l', 'l', 's']\n"
     ]
    }
   ],
   "source": [
    "# define the input string\n",
    "string = 'pwskills'\n",
    "\n",
    "# create a list comprehension to iterate through the string and select specific characters\n",
    "result = [char for char in string if char in ['p', 'w', 's', 'k', 'i', 'l']]\n",
    "\n",
    "# print the resulting list\n",
    "print(result)"
   ]
  },
  {
   "cell_type": "markdown",
   "id": "90812c89-f9b5-423d-9526-de2c967fca34",
   "metadata": {},
   "source": [
    "## Q8. Write a python program to check whether a given number is Palindrome or not using a while loop."
   ]
  },
  {
   "cell_type": "code",
   "execution_count": 7,
   "id": "8afe4d60-ae69-431f-b55f-f92bd0edbe8d",
   "metadata": {},
   "outputs": [
    {
     "name": "stdin",
     "output_type": "stream",
     "text": [
      "Enter a number:  123\n"
     ]
    },
    {
     "name": "stdout",
     "output_type": "stream",
     "text": [
      "The number is not a palindrome\n"
     ]
    }
   ],
   "source": [
    "# get the input number from the user\n",
    "num = int(input(\"Enter a number: \"))\n",
    "\n",
    "# make a copy of the input number for comparison\n",
    "temp = num\n",
    "\n",
    "# initialize a variable to store the reversed number\n",
    "reverse = 0\n",
    "\n",
    "# use a while loop to reverse the number\n",
    "while temp > 0:\n",
    "    # get the last digit of the number\n",
    "    digit = temp % 10\n",
    "\n",
    "    # add the digit to the reversed number\n",
    "    reverse = (reverse * 10) + digit\n",
    "\n",
    "    # remove the last digit from the number\n",
    "    temp = temp // 10\n",
    "\n",
    "# check if the original and reversed numbers are equal\n",
    "if num == reverse:\n",
    "    print(\"The number is a palindrome\")\n",
    "else:\n",
    "    print(\"The number is not a palindrome\")"
   ]
  },
  {
   "cell_type": "markdown",
   "id": "ca625910-ceb3-475d-92e0-89d0358b4be3",
   "metadata": {},
   "source": [
    "## Q9. Write a code to print odd numbers from 1 to 100 using list comprehension."
   ]
  },
  {
   "cell_type": "code",
   "execution_count": 8,
   "id": "17f8b7e0-e841-4ae6-aa35-68b77facce78",
   "metadata": {},
   "outputs": [
    {
     "name": "stdout",
     "output_type": "stream",
     "text": [
      "[1, 3, 5, 7, 9, 11, 13, 15, 17, 19, 21, 23, 25, 27, 29, 31, 33, 35, 37, 39, 41, 43, 45, 47, 49, 51, 53, 55, 57, 59, 61, 63, 65, 67, 69, 71, 73, 75, 77, 79, 81, 83, 85, 87, 89, 91, 93, 95, 97, 99]\n"
     ]
    }
   ],
   "source": [
    "# create a list comprehension to generate a list of numbers from 1 to 100\n",
    "numbers = [num for num in range(1, 101)]\n",
    "\n",
    "# create another list comprehension to filter out the odd numbers\n",
    "odd_numbers = [num for num in numbers if num % 2 != 0]\n",
    "\n",
    "# print the resulting list of odd numbers\n",
    "print(odd_numbers)"
   ]
  },
  {
   "cell_type": "code",
   "execution_count": null,
   "id": "95140c8d-7600-45f2-8652-7d934c517e6c",
   "metadata": {},
   "outputs": [],
   "source": []
  }
 ],
 "metadata": {
  "kernelspec": {
   "display_name": "Python 3 (ipykernel)",
   "language": "python",
   "name": "python3"
  },
  "language_info": {
   "codemirror_mode": {
    "name": "ipython",
    "version": 3
   },
   "file_extension": ".py",
   "mimetype": "text/x-python",
   "name": "python",
   "nbconvert_exporter": "python",
   "pygments_lexer": "ipython3",
   "version": "3.9.16"
  }
 },
 "nbformat": 4,
 "nbformat_minor": 5
}
