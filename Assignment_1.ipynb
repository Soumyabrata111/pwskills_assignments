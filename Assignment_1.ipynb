{
 "cells": [
  {
   "cell_type": "markdown",
   "id": "7f270b0e-58a1-491c-95c9-6b79c0c3fa0a",
   "metadata": {},
   "source": [
    "# For loop\n",
    "'for loop' is used when the number of iterations to be carried out is precisely known. \n",
    "e.g. print the first 10 whole numbers"
   ]
  },
  {
   "cell_type": "code",
   "execution_count": 1,
   "id": "83f66378-10cf-4ab0-a660-9b915ce67a96",
   "metadata": {},
   "outputs": [
    {
     "name": "stdout",
     "output_type": "stream",
     "text": [
      "0\n",
      "1\n",
      "2\n",
      "3\n",
      "4\n",
      "5\n",
      "6\n",
      "7\n",
      "8\n",
      "9\n"
     ]
    }
   ],
   "source": [
    "for i in range (10):\n",
    "    print (i)"
   ]
  },
  {
   "cell_type": "markdown",
   "id": "36f7ff81-650b-4f19-89a6-59e3689b0f9a",
   "metadata": {},
   "source": [
    "# while loop\n",
    "'while loop' is used when the stopping condition is known but the exact number of iterations required for reaching that condition is unknown.\n",
    "e.g. print whole numbers till a specific number is reached, as specified by the user"
   ]
  },
  {
   "cell_type": "code",
   "execution_count": 2,
   "id": "dd2da595-337c-4c22-a313-4bf25182be3a",
   "metadata": {},
   "outputs": [
    {
     "name": "stdin",
     "output_type": "stream",
     "text": [
      "Enter a number upto which the whole numbers are to be printed:  8\n"
     ]
    },
    {
     "name": "stdout",
     "output_type": "stream",
     "text": [
      "0\n",
      "1\n",
      "2\n",
      "3\n",
      "4\n",
      "5\n",
      "6\n",
      "7\n",
      "8\n"
     ]
    }
   ],
   "source": [
    "i=0\n",
    "stopping_number = int(input('Enter a number upto which the whole numbers are to be printed: '))\n",
    "while i<=stopping_number:\n",
    "    print (i)\n",
    "    i+=1"
   ]
  },
  {
   "cell_type": "markdown",
   "id": "2871f643-3e21-4608-9424-b8dbbfe4c9ff",
   "metadata": {},
   "source": [
    "# python program to print the sum of the first 10 natural numbers using for loop."
   ]
  },
  {
   "cell_type": "code",
   "execution_count": 1,
   "id": "95c7dc14-919a-41fc-abc6-7ab712d6e1c3",
   "metadata": {},
   "outputs": [
    {
     "name": "stdout",
     "output_type": "stream",
     "text": [
      "55\n"
     ]
    }
   ],
   "source": [
    "s = 0\n",
    "for i in range (1,11):\n",
    "    s = s+i\n",
    "print (s)"
   ]
  },
  {
   "cell_type": "markdown",
   "id": "939e32a4-467c-4848-aaa8-f539981a5941",
   "metadata": {},
   "source": [
    "# python program to print the sum of the first 10 natural numbers using while loop."
   ]
  },
  {
   "cell_type": "code",
   "execution_count": 8,
   "id": "8193f8d7-5aec-448c-83f4-1866cafb1281",
   "metadata": {},
   "outputs": [
    {
     "name": "stdout",
     "output_type": "stream",
     "text": [
      "55\n"
     ]
    }
   ],
   "source": [
    "i = 1\n",
    "s=0\n",
    "while i<=10:\n",
    "    s = s + i\n",
    "    i +=1\n",
    "print (s)"
   ]
  },
  {
   "cell_type": "markdown",
   "id": "02c2848d-51af-41cb-b83b-a9dbc9775587",
   "metadata": {},
   "source": [
    "# python program to print the product of the first 10 natural numbers using for loop."
   ]
  },
  {
   "cell_type": "code",
   "execution_count": 4,
   "id": "09ed2a7c-bf18-482b-a7dd-669b789cb524",
   "metadata": {},
   "outputs": [
    {
     "name": "stdout",
     "output_type": "stream",
     "text": [
      "3628800\n"
     ]
    }
   ],
   "source": [
    "p = 1\n",
    "for i in range (2,11):\n",
    "    p = p*i\n",
    "print (p)"
   ]
  },
  {
   "cell_type": "markdown",
   "id": "7475349e-183c-4aee-aedb-4ad84d9f0ab5",
   "metadata": {},
   "source": [
    "# python program to print the product of the first 10 natural numbers using while loop."
   ]
  },
  {
   "cell_type": "code",
   "execution_count": 9,
   "id": "1bfd1ea4-03f3-4101-84a7-c62de93df4e6",
   "metadata": {},
   "outputs": [
    {
     "name": "stdout",
     "output_type": "stream",
     "text": [
      "3628800\n"
     ]
    }
   ],
   "source": [
    "p = 1\n",
    "i = 1\n",
    "while i<=10:\n",
    "    p = i*p\n",
    "    i +=1\n",
    "print (p)"
   ]
  },
  {
   "cell_type": "markdown",
   "id": "a4457170-3f5d-4ca1-b738-a57531455e17",
   "metadata": {},
   "source": [
    "# Create a python program to compute the electricity bill for a household.\n",
    "The per-unit charges in rupees are as follows: For the first 100 units, the user will be charged Rs. 4.5 per unit, for the next 100 units, the user will be charged Rs. 6 per unit, and for the next 100 units, the user will be charged Rs. 10 per unit, After 300 units and above the user will be charged Rs. 20 per unit. You are required to take the units of electricity consumed in a month from the user as input. Your program must pass this test case: when the unit of electricity consumed by the user in a month is 310, the total electricity bill should be 2250."
   ]
  },
  {
   "cell_type": "markdown",
   "id": "8e225a04-966c-483b-aa61-308ecca2a5b8",
   "metadata": {},
   "source": [
    "uc = int(input(\"Enter the units of electricity consumed in the month: \"))\n",
    "if uc<=100:\n",
    "    eb = uc*4.5\n",
    "elif uc>100 and uc<=200:\n",
    "    eb = 100*4.5+(uc-100)*6\n",
    "elif uc>200 and uc <=300:\n",
    "    eb = 100*4.5+100*6+(uc-300)*10\n",
    "elif uc>300:\n",
    "    eb = 100*4.5+100*6+100*10+(uc-300)*20\n",
    "print (eb)     "
   ]
  },
  {
   "cell_type": "markdown",
   "id": "9dc5ad7c-1590-42c5-b8a5-5303587d5815",
   "metadata": {},
   "source": [
    "#  Create a list of numbers from 1 to 100. Use for loop and while loop to calculate the cube of each number and if the cube of that number is divisible by 4 or 5 then append that number in a list and print that list."
   ]
  },
  {
   "cell_type": "markdown",
   "id": "a1188de3-908e-4934-8342-60faef3309b1",
   "metadata": {},
   "source": [
    "for loop"
   ]
  },
  {
   "cell_type": "code",
   "execution_count": 20,
   "id": "573c0bcb-9750-4c30-a582-5f719f60ce65",
   "metadata": {},
   "outputs": [
    {
     "name": "stdout",
     "output_type": "stream",
     "text": [
      "[2, 4, 5, 6, 8, 10, 12, 14, 15, 16, 18, 20, 22, 24, 25, 26, 28, 30, 32, 34, 35, 36, 38, 40, 42, 44, 45, 46, 48, 50, 52, 54, 55, 56, 58, 60, 62, 64, 65, 66, 68, 70, 72, 74, 75, 76, 78, 80, 82, 84, 85, 86, 88, 90, 92, 94, 95, 96, 98, 100]\n"
     ]
    }
   ],
   "source": [
    "numbers = list(range(1,101))\n",
    "cubes_list = []\n",
    "for i in range (1,101):\n",
    "    cube = i**3\n",
    "    if cube%4==0 or cube%5==0:\n",
    "        cubes_list.append(i)\n",
    "print (cubes_list)"
   ]
  },
  {
   "cell_type": "markdown",
   "id": "b8691383-cc73-4f63-a1a1-3fcc44f5de8c",
   "metadata": {},
   "source": [
    "while loop"
   ]
  },
  {
   "cell_type": "code",
   "execution_count": 22,
   "id": "08181490-2a86-4b79-b987-2f79c11fd642",
   "metadata": {},
   "outputs": [
    {
     "name": "stdout",
     "output_type": "stream",
     "text": [
      "[2, 4, 5, 6, 8, 10, 12, 14, 15, 16, 18, 20, 22, 24, 25, 26, 28, 30, 32, 34, 35, 36, 38, 40, 42, 44, 45, 46, 48, 50, 52, 54, 55, 56, 58, 60, 62, 64, 65, 66, 68, 70, 72, 74, 75, 76, 78, 80, 82, 84, 85, 86, 88, 90, 92, 94, 95, 96, 98, 100]\n"
     ]
    }
   ],
   "source": [
    "cubes_list_1=[]\n",
    "i = 1\n",
    "while i<=100:\n",
    "    cubes = i**3\n",
    "    if cubes %4==0 or cubes%5==0:\n",
    "        cubes_list_1.append(i)\n",
    "    i +=1\n",
    "print (cubes_list_1)"
   ]
  },
  {
   "cell_type": "markdown",
   "id": "8cdc28ca-a365-40fb-aed7-491f0d7e5ebb",
   "metadata": {},
   "source": [
    "#  Write a program to filter count vowels in the below-given string.\n",
    "\n",
    "string = \"I want to become a data scientist\""
   ]
  },
  {
   "cell_type": "code",
   "execution_count": 25,
   "id": "e0bc6d81-37af-48d3-9dc3-0a69bae5cc1a",
   "metadata": {},
   "outputs": [
    {
     "data": {
      "text/plain": [
       "12"
      ]
     },
     "execution_count": 25,
     "metadata": {},
     "output_type": "execute_result"
    }
   ],
   "source": [
    "string = \"I want to become a data scientist\"\n",
    "def count_vowels(string):\n",
    "    \n",
    "    # Convert the string to lower for easy comparison\n",
    "    lower_string=string.lower()\n",
    "    \n",
    "    # Declaring a list of vowels\n",
    "    vowels = ['a','e','i','o','u']\n",
    "    \n",
    "    # Initialize a vowel counter\n",
    "    vowel_counter = 0\n",
    "    \n",
    "    # Compare each character with the list of vowels and update the counter if a vowel is encountered\n",
    "    for char in lower_string:\n",
    "        if char in vowels:\n",
    "            vowel_counter += 1\n",
    "    return vowel_counter\n",
    "\n",
    "num_vowels = count_vowels(string)\n",
    "num_vowels"
   ]
  }
 ],
 "metadata": {
  "kernelspec": {
   "display_name": "Python 3 (ipykernel)",
   "language": "python",
   "name": "python3"
  },
  "language_info": {
   "codemirror_mode": {
    "name": "ipython",
    "version": 3
   },
   "file_extension": ".py",
   "mimetype": "text/x-python",
   "name": "python",
   "nbconvert_exporter": "python",
   "pygments_lexer": "ipython3",
   "version": "3.9.16"
  }
 },
 "nbformat": 4,
 "nbformat_minor": 5
}
